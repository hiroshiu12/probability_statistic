{
 "cells": [
  {
   "cell_type": "markdown",
   "metadata": {},
   "source": [
    "# What is *\"Entropy\"* ?"
   ]
  },
  {
   "cell_type": "code",
   "execution_count": 44,
   "metadata": {},
   "outputs": [],
   "source": [
    "import numpy as np\n",
    "import matplotlib.pyplot as plt\n",
    "% matplotlib inline"
   ]
  },
  {
   "cell_type": "markdown",
   "metadata": {},
   "source": [
    "To put it simply,*\"Entropy\"* describe unpredictability of event.  \n",
    "Let event be $X (X_{0},X_{1},X_{2},\\cdots,X_{n})$, and let probability of X be $P (P_{0},P_{1},P_{2},\\cdots,P_{n})$.  \n",
    "*\"Entropy\" $H(x)$* can be expressed as following.\n",
    "$$ H(x) = -\\sum_{i=1}^{n}P_{i}\\log_{2}P_{i}$$"
   ]
  },
  {
   "cell_type": "code",
   "execution_count": 20,
   "metadata": {
    "collapsed": true
   },
   "outputs": [],
   "source": [
    "def entropy(prob_list):\n",
    "    \"\"\"\n",
    "    parameter\n",
    "    ---------------------\n",
    "    prob_list : prob_list is expected to be numpy. This represents probability, hence \"prob_list.sum()\" should be 1.\n",
    "    \"\"\"\n",
    "    return (-prob_list * np.log2(prob_list)).sum()"
   ]
  },
  {
   "cell_type": "markdown",
   "metadata": {},
   "source": [
    "As an example, I'm gonna observe entropy in *\"Bernoulli trial\"*.\n",
    "Probability mass function of *\"Bernoulli trial\"* is described as bellow.\n",
    "\n",
    " $$ Ber(x|\\mu) = \\mu^{x}(1-\\mu)^{1-x}$$\n",
    "\n",
    "Now *\"Bernoulli Trial\"* can be depicted as following function."
   ]
  },
  {
   "cell_type": "code",
   "execution_count": 13,
   "metadata": {
    "collapsed": true
   },
   "outputs": [],
   "source": [
    "def bernoulli_trial(u):\n",
    "    np_prob = np.empty((2,))\n",
    "    np_prob[0] = (u ** 1)\n",
    "    np_prob[1] = (1-u)\n",
    "    \n",
    "    return np_prob"
   ]
  },
  {
   "cell_type": "markdown",
   "metadata": {},
   "source": [
    "Calculate probability of *\"Bernoulli Distribution\"*"
   ]
  },
  {
   "cell_type": "code",
   "execution_count": 41,
   "metadata": {},
   "outputs": [],
   "source": [
    "prob_ber_list = np.arange(0.01,1,0.01)\n",
    "ber_result_list = np.empty((prob_ber_list.shape[0],2))\n",
    "\n",
    "# calculate probability of bernoulli\n",
    "for i, prob_ber in enumerate(prob_ber_list):\n",
    "    ber_result_list[i] = bernoulli_trial(prob_ber)\n",
    "    \n",
    "# calculate entropy\n",
    "entropy_list = np.empty((prob_ber_list.shape[0],),dtype=np.float64)\n",
    "for j, ber_result in enumerate(ber_result_list): \n",
    "    tmp = entropy(ber_result)\n",
    "    entropy_list[j] = tmp"
   ]
  },
  {
   "cell_type": "markdown",
   "metadata": {},
   "source": [
    "Entropy of *\"Bernoulli Distribution\"* can be depicted as following graph."
   ]
  },
  {
   "cell_type": "code",
   "execution_count": 47,
   "metadata": {},
   "outputs": [
    {
     "data": {
      "text/plain": [
       "<matplotlib.text.Text at 0x115ab4ac8>"
      ]
     },
     "execution_count": 47,
     "metadata": {},
     "output_type": "execute_result"
    },
    {
     "data": {
      "image/png": "[encoded data removed]",
      "text/plain": [
       "<matplotlib.figure.Figure at 0x115a27c88>"
      ]
     },
     "metadata": {},
     "output_type": "display_data"
    }
   ],
   "source": [
    "plt.plot(prob_ber_list,entropy_list)\n",
    "plt.xlabel('Probability')\n",
    "plt.ylabel('Entropy')\n",
    "plt.title('Entropy of bernoulli distribution')"
   ]
  }
 ],
 "metadata": {
  "kernelspec": {
   "display_name": "Python 3",
   "language": "python",
   "name": "python3"
  },
  "language_info": {
   "codemirror_mode": {
    "name": "ipython",
    "version": 3
   },
   "file_extension": ".py",
   "mimetype": "text/x-python",
   "name": "python",
   "nbconvert_exporter": "python",
   "pygments_lexer": "ipython3",
   "version": "3.6.1"
  }
 },
 "nbformat": 4,
 "nbformat_minor": 2
}
