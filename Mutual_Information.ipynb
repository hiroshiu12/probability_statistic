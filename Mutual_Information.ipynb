{
 "cells": [
  {
   "cell_type": "markdown",
   "metadata": {},
   "source": [
    "# Mutual Information"
   ]
  },
  {
   "cell_type": "markdown",
   "metadata": {},
   "source": [
    "## 1. Conditional Entropy"
   ]
  },
  {
   "cell_type": "markdown",
   "metadata": {},
   "source": [
    "*\"What is Entropy\"* was discussed in the following link.   \n",
    "<https://hiroshiu.blogspot.com/2018/04/what-is-entropy.html>  \n",
    "Before getting into the *\"Mutual Information\"*, I have to wrap my head around *\"Conditional Entropy\"*.  \n",
    "*\"Conditional Entropy\"*  $H(x)$ of two discrete random variables $X(x_1,x_2,\\cdots,x_n), Y(y_1,y_2,\\cdots,y_m)$ is captured by followings\n",
    "$$H(X|y_{1}) = -\\sum_{i=1}^{n}P(x_{i}|y_{1})\\log(P(x_{i}|y_{1}))$$  \n",
    "Therefore,  \n",
    "\\begin{align}\n",
    "H(X|Y) &= \\sum_{j=1}^{m}P(y_{j})\\sum_{i=1}^{n}P(X_{i}|y_{j})\\log({P(X_{i}|y_{j})})\\\\\n",
    "&=\\sum_{j=1}^{m}\\sum_{i=1}^{n}P(x_{i} \\cap y_{j})\\log(\\frac{P(x_{i}\\cap y_{j})}{P(y_{j})})\n",
    "\\end{align}\n"
   ]
  },
  {
   "cell_type": "markdown",
   "metadata": {},
   "source": [
    "## 2. Mutual Information\n",
    "Mutual Information is $H(X) - H(X|Y)$, which measures how much knowing one of vaiables reduce uncertainty about others.\n",
    "$$I(X;Y) = H(X) - H(X|Y) = \\sum_{y\\in{Y}}\\sum_{x\\in{X}}P(X \\cap Y)\\log(\\frac{P(X \\cap Y)}{P(X)P(Y)})$$\n",
    "TODO : // write proof"
   ]
  },
  {
   "cell_type": "markdown",
   "metadata": {},
   "source": [
    "## 3. Implementation"
   ]
  },
  {
   "cell_type": "markdown",
   "metadata": {},
   "source": [
    "There is useful library of scikit-learn. From now on, I'm trying to calculate mutual information with that library."
   ]
  },
  {
   "cell_type": "code",
   "execution_count": 27,
   "metadata": {},
   "outputs": [],
   "source": [
    "from sklearn import datasets\n",
    "from sklearn.feature_selection import SelectKBest\n",
    "from sklearn.feature_selection import mutual_info_classif\n",
    "import numpy as np"
   ]
  },
  {
   "cell_type": "code",
   "execution_count": 41,
   "metadata": {
    "collapsed": true
   },
   "outputs": [],
   "source": [
    "iris_dataset = datasets.load_iris()\n",
    "iris_data = iris_dataset.data\n",
    "iris_label = iris_dataset.target"
   ]
  },
  {
   "cell_type": "code",
   "execution_count": 13,
   "metadata": {},
   "outputs": [
    {
     "data": {
      "text/plain": [
       "array([[ 5.1,  3.5,  1.4,  0.2],\n",
       "       [ 4.9,  3. ,  1.4,  0.2],\n",
       "       [ 4.7,  3.2,  1.3,  0.2]])"
      ]
     },
     "execution_count": 13,
     "metadata": {},
     "output_type": "execute_result"
    }
   ],
   "source": [
    "# Expranatory variable\n",
    "iris_data[0:3,:]"
   ]
  },
  {
   "cell_type": "code",
   "execution_count": 42,
   "metadata": {},
   "outputs": [
    {
     "data": {
      "text/plain": [
       "array([0, 0, 0])"
      ]
     },
     "execution_count": 42,
     "metadata": {},
     "output_type": "execute_result"
    }
   ],
   "source": [
    "# Responsible variable\n",
    "iris_label[0:3]"
   ]
  },
  {
   "cell_type": "markdown",
   "metadata": {},
   "source": [
    "You can check value of mutual information with *\"mutual_info_classif\"* function.  \n",
    "2th and 3th expranatory variable seems to have higher value than others."
   ]
  },
  {
   "cell_type": "code",
   "execution_count": 40,
   "metadata": {},
   "outputs": [
    {
     "data": {
      "text/plain": [
       "array([ 0.48958131,  0.24431716,  0.98399648,  1.00119776])"
      ]
     },
     "execution_count": 40,
     "metadata": {},
     "output_type": "execute_result"
    }
   ],
   "source": [
    "mutual_info_classif(X=iris_data,y=iris_label)"
   ]
  },
  {
   "cell_type": "markdown",
   "metadata": {},
   "source": [
    "Now you can obtain new expranatory variable which consists of high mutual information.\n",
    "Here I'm gonna extract 2 expranatory variable out of 4 with *\"SelectKBest\"* function.  "
   ]
  },
  {
   "cell_type": "code",
   "execution_count": 21,
   "metadata": {},
   "outputs": [],
   "source": [
    "selecter = SelectKBest(score_func=mutual_info_classif, k=2)\n",
    "selecter_iris = selecter.fit(iris_data,iris_label)"
   ]
  },
  {
   "cell_type": "code",
   "execution_count": 45,
   "metadata": {},
   "outputs": [],
   "source": [
    "new_iris_data = selecter_iris.fit_transform(iris_data,iris_label)"
   ]
  },
  {
   "cell_type": "code",
   "execution_count": 48,
   "metadata": {},
   "outputs": [
    {
     "name": "stdout",
     "output_type": "stream",
     "text": [
      "shape of new_iris_data (150, 2)\n"
     ]
    },
    {
     "data": {
      "text/plain": [
       "array([[ 1.4,  0.2],\n",
       "       [ 1.4,  0.2],\n",
       "       [ 1.3,  0.2]])"
      ]
     },
     "execution_count": 48,
     "metadata": {},
     "output_type": "execute_result"
    }
   ],
   "source": [
    "print('shape of new_iris_data',new_iris_data.shape)\n",
    "new_iris_data[0:3,:]"
   ]
  },
  {
   "cell_type": "markdown",
   "metadata": {},
   "source": [
    "Now I can see explanatory variable with high mutual information were extracted :)  \n",
    "You can also check which explanatory variable is selected as True-False numpy array by invoking \"get_support()\" method."
   ]
  },
  {
   "cell_type": "code",
   "execution_count": 49,
   "metadata": {},
   "outputs": [
    {
     "name": "stdout",
     "output_type": "stream",
     "text": [
      "support [False False  True  True]\n"
     ]
    },
    {
     "data": {
      "text/plain": [
       "(array([2, 3]),)"
      ]
     },
     "execution_count": 49,
     "metadata": {},
     "output_type": "execute_result"
    }
   ],
   "source": [
    "support = selecter_iris.get_support()\n",
    "print('support', support)\n",
    "np.where(support == True)"
   ]
  },
  {
   "cell_type": "markdown",
   "metadata": {},
   "source": [
    "You can check another *\"Select~\"* method here.  \n",
    "<http://scikit-learn.org/stable/modules/classes.html#module-sklearn.feature_selection>  \n",
    "According the link above, for continuous variable, *\"mutual_info_regression\"* seems to be preferable.\n"
   ]
  },
  {
   "cell_type": "markdown",
   "metadata": {},
   "source": [
    "TODO :// create mutual information by yourself and confirm whether two values correspond..."
   ]
  }
 ],
 "metadata": {
  "kernelspec": {
   "display_name": "Python 3",
   "language": "python",
   "name": "python3"
  },
  "language_info": {
   "codemirror_mode": {
    "name": "ipython",
    "version": 3
   },
   "file_extension": ".py",
   "mimetype": "text/x-python",
   "name": "python",
   "nbconvert_exporter": "python",
   "pygments_lexer": "ipython3",
   "version": "3.6.1"
  }
 },
 "nbformat": 4,
 "nbformat_minor": 2
}
